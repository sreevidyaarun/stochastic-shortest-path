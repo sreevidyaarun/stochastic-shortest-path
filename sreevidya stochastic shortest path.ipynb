{
  "nbformat": 4,
  "nbformat_minor": 0,
  "metadata": {
    "colab": {
      "provenance": []
    },
    "kernelspec": {
      "name": "python3",
      "display_name": "Python 3"
    },
    "language_info": {
      "name": "python"
    }
  },
  "cells": [
    {
      "cell_type": "markdown",
      "source": [
        "Sreevidya C \n",
        "CB.EN.D*ECE21012-FT"
      ],
      "metadata": {
        "id": "xcIfiE8n11bu"
      }
    },
    {
      "cell_type": "markdown",
      "source": [
        "Stochastic Shortest Path maze using Monte Carlo simulation"
      ],
      "metadata": {
        "id": "AWP61GYXCype"
      }
    },
    {
      "cell_type": "markdown",
      "source": [],
      "metadata": {
        "id": "iif2U4tC1z3X"
      }
    },
    {
      "cell_type": "code",
      "execution_count": null,
      "metadata": {
        "id": "30VQAx9LBsPq"
      },
      "outputs": [],
      "source": [
        "import matplotlib.pyplot as plt\n",
        "import networkx as nx\n",
        "import numpy as np\n",
        "import random"
      ]
    },
    {
      "cell_type": "code",
      "source": [
        "# create a maze graph\n",
        "maze = [\n",
        "    [0, 1, 0, 0, 0, 0],\n",
        "    [0, 1, 1, 1, 1, 0],\n",
        "    [0, 0, 0, 0, 0, 0],\n",
        "    [1, 1, 1, 1, 1, 0],\n",
        "    [0, 0, 0, 0, 1, 0],\n",
        "    [0, 1, 1, 0, 1, 0]\n",
        "]"
      ],
      "metadata": {
        "id": "6VvRp6XcB252"
      },
      "execution_count": null,
      "outputs": []
    },
    {
      "cell_type": "code",
      "source": [],
      "metadata": {
        "id": "Op50HIHPZzXk"
      },
      "execution_count": null,
      "outputs": []
    },
    {
      "cell_type": "code",
      "source": [
        "G = nx.Graph()"
      ],
      "metadata": {
        "id": "C6FOpguJB8as"
      },
      "execution_count": null,
      "outputs": []
    },
    {
      "cell_type": "code",
      "source": [
        "G"
      ],
      "metadata": {
        "colab": {
          "base_uri": "https://localhost:8080/"
        },
        "id": "_7Kp2hFAB9_R",
        "outputId": "e73ecb03-2162-43aa-ef96-53cd0afc24dd"
      },
      "execution_count": null,
      "outputs": [
        {
          "output_type": "execute_result",
          "data": {
            "text/plain": [
              "<networkx.classes.graph.Graph at 0x7f7eb27326d0>"
            ]
          },
          "metadata": {},
          "execution_count": 4
        }
      ]
    },
    {
      "cell_type": "code",
      "source": [
        "# add nodes\n",
        "for i in range(len(maze)):\n",
        "    for j in range(len(maze[0])):\n",
        "        if maze[i][j] == 0:\n",
        "            G.add_node((i, j))"
      ],
      "metadata": {
        "id": "GlSyvR5zMc5N"
      },
      "execution_count": null,
      "outputs": []
    },
    {
      "cell_type": "code",
      "source": [
        "# add edges\n",
        "for node in G.nodes:\n",
        "    i, j = node\n",
        "    if i > 0 and maze[i-1][j] == 0:\n",
        "        G.add_edge(node, (i-1, j))\n",
        "    if i < len(maze)-1 and maze[i+1][j] == 0:\n",
        "        G.add_edge(node, (i+1, j))\n",
        "    if j > 0 and maze[i][j-1] == 0:\n",
        "        G.add_edge(node, (i, j-1))\n",
        "    if j < len(maze[0])-1 and maze[i][j+1] == 0:\n",
        "        G.add_edge(node, (i, j+1))"
      ],
      "metadata": {
        "id": "6BcmHo3eCWTW"
      },
      "execution_count": null,
      "outputs": []
    },
    {
      "cell_type": "code",
      "source": [
        "# perform Monte Carlo simulation\n",
        "simulations = 1000\n",
        "path_lengths = []\n",
        "for i in range(simulations):\n",
        "    # sample weights for each edge\n",
        "    weights = {edge: random.uniform(0, 1) for edge in G.edges}\n",
        "    nx.set_edge_attributes(G, values=weights, name='weight')\n",
        "    \n",
        "    # find shortest path using Dijkstra's algorithm\n",
        "    path_lengths.append(nx.dijkstra_path_length(G, (0, 0), (5, 5), weight='weight'))"
      ],
      "metadata": {
        "id": "3BInVne9Mfe7"
      },
      "execution_count": null,
      "outputs": []
    },
    {
      "cell_type": "code",
      "source": [
        "# calculate expected value\n",
        "expected_value = sum(path_lengths) / simulations\n",
        "print(expected_value)\n",
        "\n",
        "# plot maze\n",
        "maze = np.array(maze)\n",
        "plt.imshow(maze, cmap='binary')\n",
        "plt.title('Stochastic Shortest Path Maze')\n",
        "plt.axis('off')"
      ],
      "metadata": {
        "colab": {
          "base_uri": "https://localhost:8080/",
          "height": 299
        },
        "id": "D6L6Ts74Mb7w",
        "outputId": "dae021e6-1c4f-40fb-8f2c-c74bc3a317f4"
      },
      "execution_count": null,
      "outputs": [
        {
          "output_type": "stream",
          "name": "stdout",
          "text": [
            "4.959841316620341\n"
          ]
        },
        {
          "output_type": "execute_result",
          "data": {
            "text/plain": [
              "(-0.5, 5.5, 5.5, -0.5)"
            ]
          },
          "metadata": {},
          "execution_count": 17
        },
        {
          "output_type": "display_data",
          "data": {
            "text/plain": [
              "<Figure size 432x288 with 1 Axes>"
            ],
            "image/png": "[encoded data removed]"
          },
          "metadata": {
            "needs_background": "light"
          }
        }
      ]
    },
    {
      "cell_type": "code",
      "source": [
        "# plot nodes\n",
        "pos = {node: node for node in G.nodes}\n",
        "nx.draw_networkx_nodes(G, pos, node_color='red', node_size=50)\n",
        "\n",
        "# plot edges\n",
        "nx.draw_networkx_edges(G, pos)\n",
        "\n",
        "plt.show()"
      ],
      "metadata": {
        "colab": {
          "base_uri": "https://localhost:8080/",
          "height": 248
        },
        "id": "jVYe6sADM0zz",
        "outputId": "043e2f27-4aab-4358-e350-5c47ab73fd93"
      },
      "execution_count": null,
      "outputs": [
        {
          "output_type": "display_data",
          "data": {
            "text/plain": [
              "<Figure size 432x288 with 1 Axes>"
            ],
            "image/png": "[encoded data removed]"
          },
          "metadata": {}
        }
      ]
    },
    {
      "cell_type": "code",
      "source": [
        "\n",
        "# plot maze\n",
        "maze = np.array(maze)\n",
        "plt.imshow(maze, cmap='binary')\n",
        "plt.title('Stochastic Shortest Path Maze')\n",
        "plt.axis('off')\n",
        "\n",
        "# plot nodes\n",
        "pos = {node: node for node in G.nodes}\n",
        "nx.draw_networkx_nodes(G, pos, node_color='red', node_size=50)\n",
        "\n",
        "# plot edges\n",
        "nx.draw_networkx_edges(G, pos)\n",
        "\n",
        "plt.show()\n"
      ],
      "metadata": {
        "colab": {
          "base_uri": "https://localhost:8080/",
          "height": 264
        },
        "id": "3Txd3DD4NFhX",
        "outputId": "a42ac0e6-7b82-4bb7-9f58-11195aa3b45a"
      },
      "execution_count": null,
      "outputs": [
        {
          "output_type": "display_data",
          "data": {
            "text/plain": [
              "<Figure size 432x288 with 1 Axes>"
            ],
            "image/png": "[encoded data removed]"
          },
          "metadata": {}
        }
      ]
    },
    {
      "cell_type": "code",
      "source": [],
      "metadata": {
        "id": "4SBX0HmNCY1l"
      },
      "execution_count": null,
      "outputs": []
    },
    {
      "cell_type": "markdown",
      "source": [
        "Shortest Path (SSP) algorithm using a Markovian Decision Rule and a greedy policy"
      ],
      "metadata": {
        "id": "jQyHEYLHCkDx"
      }
    },
    {
      "cell_type": "code",
      "source": [
        "import matplotlib.pyplot as plt\n",
        "\n",
        "import random\n",
        "\n",
        "def plot_maze(maze, path=None):\n",
        "    fig, ax = plt.subplots()\n",
        "    rows, cols = len(maze), len(maze[0])\n",
        "    ax.imshow(np.array(maze), cmap='gray')\n",
        "    if path:\n",
        "        for i in range(len(path) - 1):\n",
        "            start = path[i]\n",
        "            stop = path[i+1]\n",
        "            ax.plot([start[1], stop[1]], [start[0], stop[0]], 'r-', linewidth=2.5)\n",
        "    ax.axis('off')\n",
        "    plt.show()\n",
        "\n",
        "def stochastic_shortest_path(maze, start, goal):\n",
        "    rows, cols = len(maze), len(maze[0])\n",
        "    state = start\n",
        "    path = []\n",
        "    \n",
        "    while state != goal:\n",
        "        row, col = state\n",
        "        neighbors = [(row-1, col), (row, col-1), (row, col+1), (row+1, col)]\n",
        "        valid_neighbors = [(r, c) for r, c in neighbors if 0 <= r < rows and 0 <= c < cols and maze[r][c] == 0]\n",
        "        if valid_neighbors:\n",
        "            state = random.choice(valid_neighbors)\n",
        "        else:\n",
        "            return None\n",
        "        path.append(state)\n",
        "    \n",
        "    return path\n",
        "\n",
        "maze = [\n",
        "    [0, 1, 0, 0, 0, 0],\n",
        "    [0, 1, 1, 1, 1, 0],\n",
        "    [0, 0, 0, 0, 0, 0],\n",
        "    [1, 1, 1, 1, 1, 0],\n",
        "    [0, 0, 0, 0, 1, 0],\n",
        "    [0, 1, 1, 0, 1, 0]\n",
        "]\n",
        "\n",
        "start = (0, 0)\n",
        "goal = (5, 5)\n",
        "path = stochastic_shortest_path(maze, start, goal)\n",
        "\n",
        "if path:\n",
        "    print(\"Found path:\", path)\n",
        "else:\n",
        "    print(\"No path found\")\n",
        "    \n",
        "if path:\n",
        "    plot_maze(maze, path)\n",
        "else:\n",
        "    print(\"No path found\")"
      ],
      "metadata": {
        "colab": {
          "base_uri": "https://localhost:8080/",
          "height": 285
        },
        "id": "c2jGmB35sS9W",
        "outputId": "c777c10c-b6d7-4e09-a722-6fba75315787"
      },
      "execution_count": null,
      "outputs": [
        {
          "output_type": "stream",
          "name": "stdout",
          "text": [
            "Found path: [(1, 0), (0, 0), (1, 0), (2, 0), (2, 1), (2, 2), (2, 3), (2, 4), (2, 5), (1, 5), (0, 5), (0, 4), (0, 3), (0, 4), (0, 3), (0, 2), (0, 3), (0, 4), (0, 5), (0, 4), (0, 5), (0, 4), (0, 5), (1, 5), (2, 5), (2, 4), (2, 3), (2, 4), (2, 5), (2, 4), (2, 5), (1, 5), (2, 5), (2, 4), (2, 3), (2, 4), (2, 3), (2, 4), (2, 3), (2, 2), (2, 3), (2, 4), (2, 5), (1, 5), (0, 5), (1, 5), (0, 5), (1, 5), (0, 5), (0, 4), (0, 5), (0, 4), (0, 5), (0, 4), (0, 5), (1, 5), (0, 5), (1, 5), (0, 5), (1, 5), (0, 5), (0, 4), (0, 5), (1, 5), (0, 5), (0, 4), (0, 3), (0, 2), (0, 3), (0, 2), (0, 3), (0, 2), (0, 3), (0, 2), (0, 3), (0, 2), (0, 3), (0, 4), (0, 5), (1, 5), (2, 5), (3, 5), (2, 5), (3, 5), (2, 5), (1, 5), (0, 5), (0, 4), (0, 5), (0, 4), (0, 3), (0, 4), (0, 5), (1, 5), (2, 5), (3, 5), (2, 5), (3, 5), (4, 5), (5, 5)]\n"
          ]
        },
        {
          "output_type": "display_data",
          "data": {
            "text/plain": [
              "<Figure size 432x288 with 1 Axes>"
            ],
            "image/png": "[encoded data removed]"
          },
          "metadata": {
            "needs_background": "light"
          }
        }
      ]
    },
    {
      "cell_type": "markdown",
      "source": [],
      "metadata": {
        "id": "coYLvoE4Cww6"
      }
    }
  ]
}