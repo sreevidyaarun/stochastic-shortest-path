{
  "nbformat": 4,
  "nbformat_minor": 0,
  "metadata": {
    "colab": {
      "provenance": []
    },
    "kernelspec": {
      "name": "python3",
      "display_name": "Python 3"
    },
    "language_info": {
      "name": "python"
    }
  },
  "cells": [
    {
      "cell_type": "markdown",
      "source": [
        "Nanditha R"
      ],
      "metadata": {
        "id": "m_r2UqQI2uLI"
      }
    },
    {
      "cell_type": "code",
      "source": [
        "import random\n",
        "import matplotlib.pyplot as plt\n",
        "\n",
        "def get_neighbors(maze, cell):\n",
        "    \"\"\"Get the neighbors of a cell in a maze.\n",
        "\n",
        "    Parameters:\n",
        "    maze (list): The 2D maze representation.\n",
        "    cell (tuple): The cell coordinates.\n",
        "\n",
        "    Returns:\n",
        "    list: The list of valid neighbor cells.\n",
        "    \"\"\"\n",
        "    x, y = cell\n",
        "    neighbors = [(x-1, y), (x+1, y), (x, y-1), (x, y+1)]\n",
        "    return [c for c in neighbors if c[0] >= 0 and c[0] < len(maze) and c[1] >= 0 and c[1] < len(maze[0]) and maze[c[0]][c[1]] == 0]\n",
        "\n",
        "def stochastic_shortest_path(maze, start, goal):\n",
        "    \"\"\"Find the stochastic shortest path in a maze.\n",
        "\n",
        "    Parameters:\n",
        "    maze (list): The 2D maze representation.\n",
        "    start (tuple): The starting cell coordinates.\n",
        "    goal (tuple): The goal cell coordinates.\n",
        "\n",
        "    Returns:\n",
        "    list: The list of cells in the path, or None if no path was found.\n",
        "    \"\"\"\n",
        "    path = [start]\n",
        "    current = start\n",
        "    while current != goal:\n",
        "        neighbors = get_neighbors(maze, current)\n",
        "        if not neighbors:\n",
        "            return None\n",
        "        next_cell = random.choice(neighbors)\n",
        "        path.append(next_cell)\n",
        "        current = next_cell\n",
        "    return path\n",
        "\n",
        "# Define the maze\n",
        "maze = [\n",
        "    [0, 1, 0, 0, 0, 0],\n",
        "    [0, 1, 1, 1, 1, 0],\n",
        "    [0, 0, 0, 0, 0, 0],\n",
        "    [1, 1, 1, 1, 1, 0],\n",
        "    [0, 0, 0, 0, 1, 0],\n",
        "    [0, 1, 1, 0, 1, 0]\n",
        "]\n",
        "\n",
        "# Define the start and goal positions\n",
        "start = (0, 0)\n",
        "goal = (5, 5)\n",
        "\n",
        "# Find the stochastic shortest path\n",
        "path = stochastic_shortest_path(maze, start, goal)\n",
        "\n",
        "# Plot the maze and path\n",
        "if path:\n",
        "    plt.imshow(maze, cmap='binary')\n",
        "    path_x = [cell[0] for cell in path]\n",
        "    path_y = [cell[1] for cell in path]\n",
        "    plt.plot(path_y, path_x, 'ro-')\n",
        "    plt.show()\n",
        "else:\n",
        "    print(\"No path found.\")\n"
      ],
      "metadata": {
        "colab": {
          "base_uri": "https://localhost:8080/",
          "height": 265
        },
        "id": "IqTwX8QSpYXG",
        "outputId": "ac0daf57-b6cc-4b44-e01d-04b77a84d2df"
      },
      "execution_count": 2,
      "outputs": [
        {
          "output_type": "display_data",
          "data": {
            "text/plain": [
              "<Figure size 432x288 with 1 Axes>"
            ],
            "image/png": "[encoded data removed]"
          },
          "metadata": {
            "needs_background": "light"
          }
        }
      ]
    },
    {
      "cell_type": "markdown",
      "source": [],
      "metadata": {
        "id": "sfkcHnmq2r-I"
      }
    }
  ]
}